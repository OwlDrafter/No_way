{
  "nbformat": 4,
  "nbformat_minor": 0,
  "metadata": {
    "colab": {
      "provenance": []
    },
    "kernelspec": {
      "name": "python3",
      "display_name": "Python 3"
    },
    "language_info": {
      "name": "python"
    }
  },
  "cells": [
    {
      "cell_type": "code",
      "execution_count": 3,
      "metadata": {
        "colab": {
          "base_uri": "https://localhost:8080/"
        },
        "id": "Z6uTkHl0Mb5Z",
        "outputId": "c1afe6af-6472-408a-a1b2-6b1dceb08b45"
      },
      "outputs": [
        {
          "output_type": "stream",
          "name": "stdout",
          "text": [
            "Name: Myhtar, Species: Dog, Age: 5, Gender: Male, Breed: Labrador\n",
            "Woof!\n",
            "Name: Whiskey, Species: Cat, Age: 12, Gender: Female, Color: White\n",
            "Meow!\n"
          ]
        }
      ],
      "source": [
        "class Pet:\n",
        "    def __init__(self, name, species, age, gender):\n",
        "        self.__name = name\n",
        "        self.__species = species\n",
        "        self.__age = age\n",
        "        self.__gender = gender\n",
        "\n",
        "    def get_info(self):\n",
        "        return f\"Name: {self.__name}, Species: {self.__species}, Age: {self.__age}, Gender: {self.__gender}\"\n",
        "\n",
        "\n",
        "class Dog(Pet):\n",
        "    def __init__(self, name, age, gender, breed):\n",
        "        super().__init__(name, species=\"Dog\", age=age, gender=gender)\n",
        "        self.__breed = breed\n",
        "\n",
        "    def bark(self):\n",
        "        return \"Woof!\"\n",
        "\n",
        "    def get_info(self):\n",
        "\n",
        "        pet_info = super().get_info()\n",
        "        return f\"{pet_info}, Breed: {self.__breed}\"\n",
        "\n",
        "\n",
        "class Cat(Pet):\n",
        "    def __init__(self, name, age, gender, color):\n",
        "        super().__init__(name, species=\"Cat\", age=age, gender=gender)\n",
        "        self.__color = color\n",
        "\n",
        "    def meow(self):\n",
        "        return \"Meow!\"\n",
        "\n",
        "    def get_info(self):\n",
        "\n",
        "        pet_info = super().get_info()\n",
        "        return f\"{pet_info}, Color: {self.__color}\"\n",
        "\n",
        "dog_instance = Dog(name=\"Myhtar\", age=5, gender=\"Male\", breed=\"Labrador\")\n",
        "cat_instance = Cat(name=\"Whiskey\", age=12, gender=\"Female\", color=\"White\")\n",
        "\n",
        "print(dog_instance.get_info())\n",
        "print(dog_instance.bark())\n",
        "\n",
        "print(cat_instance.get_info())\n",
        "print(cat_instance.meow())"
      ]
    },
    {
      "cell_type": "code",
      "source": [],
      "metadata": {
        "id": "MBuuHR5yNjbY"
      },
      "execution_count": null,
      "outputs": []
    },
    {
      "cell_type": "code",
      "source": [],
      "metadata": {
        "id": "QqGBN07kMijz"
      },
      "execution_count": null,
      "outputs": []
    }
  ]
}